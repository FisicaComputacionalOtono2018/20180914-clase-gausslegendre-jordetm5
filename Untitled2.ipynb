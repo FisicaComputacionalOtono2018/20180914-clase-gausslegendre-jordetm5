{
  "nbformat": 4,
  "nbformat_minor": 0,
  "metadata": {
    "colab": {
      "name": "Untitled2.ipynb",
      "version": "0.3.2",
      "provenance": []
    },
    "kernelspec": {
      "name": "python3",
      "display_name": "Python 3"
    }
  },
  "cells": [
    {
      "metadata": {
        "id": "LKE8f6yMe3M7",
        "colab_type": "code",
        "colab": {
          "base_uri": "https://localhost:8080/",
          "height": 52
        },
        "outputId": "d9c334d0-7894-4a10-9711-b61f879ab9c7"
      },
      "cell_type": "code",
      "source": [
        "#jorge Dettle Meza Dominguez\n",
        "#13/09/2018\n",
        "#derivadas n-simas para el algoritmo de gauss\n",
        "from sympy import Symbol\n",
        "import numpy as np\n",
        "def f(x):\n",
        "  return x**3+2*x**2\n",
        "def I(n,b,a):\n",
        "  xi, w = np.polynomial.legendre.leggauss(n)\n",
        "  ni=0\n",
        "  for i in range (0,n):\n",
        "    ni = ni+w[i]*f((b-a)*xi[i]/2+(b+a)/2)\n",
        "  return (b-a)/2*ni\n",
        "\n",
        "n=int(input(\"introduzca el grado del polinomio : \"))\n",
        "print(I(n,5.0,1.0))"
      ],
      "execution_count": 15,
      "outputs": [
        {
          "output_type": "stream",
          "text": [
            "introduzca el grado del polinomio : 3\n",
            "238.6666666666667\n"
          ],
          "name": "stdout"
        }
      ]
    }
  ]
}