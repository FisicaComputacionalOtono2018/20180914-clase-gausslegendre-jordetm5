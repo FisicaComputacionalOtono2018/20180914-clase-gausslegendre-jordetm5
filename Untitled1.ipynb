{
  "nbformat": 4,
  "nbformat_minor": 0,
  "metadata": {
    "colab": {
      "name": "Untitled1.ipynb",
      "version": "0.3.2",
      "provenance": []
    },
    "kernelspec": {
      "name": "python3",
      "display_name": "Python 3"
    }
  },
  "cells": [
    {
      "metadata": {
        "id": "1GLeUBSmxHbb",
        "colab_type": "code",
        "colab": {
          "base_uri": "https://localhost:8080/",
          "height": 357
        },
        "outputId": "cc85423a-e836-435c-c808-fba51e06a5ae"
      },
      "cell_type": "code",
      "source": [
        "\n",
        "#jorge Dettle Meza Dominguez\n",
        "#13/09/2018\n",
        "#derivadas n-simas para el algoritmo de gauss\n",
        "from sympy import Symbol\n",
        "import numpy as np\n",
        "def nf(x):\n",
        "\tn=1\n",
        "\ts=x\n",
        "\twhile n<x:\n",
        "\t\ts=s*n\n",
        "\t\tn=n+1\n",
        "\treturn s\n",
        "def P(n,r):\n",
        "  x=Symbol(\"x\")\n",
        "  y=((x**2)-1)**n\n",
        "  for i in range (0,n):\n",
        "\t  y=y.diff(x)\n",
        "  y=y/((2**n)*nf(n))\n",
        "\n",
        "  y=y.diff(x)\n",
        "  y=float(y.subs(x,r))\n",
        "  return y\n",
        "\n",
        "def w(x,y):\n",
        "  return 2/((1-x**2)*((P(y,x))**2))\n",
        "def f(x):\n",
        "  return (((4)*x[i]/2+(6)/2)**3)+(2*((4)*x[i]/2+(6)/2)**2)\n",
        "def g(x,y):\n",
        "  s=0\n",
        "  for i in range(0,y):\n",
        "    s=s+(w(x[i],y)*f(x[i],1.01,5))\n",
        "  return ((4)/2)*s\n",
        "\n",
        "         \n",
        "n=int(input(\"introduzca el grado del polinomio : \"))\n",
        "\n",
        "#r=float(input(\"introduzca el valor a evaluar : \"))\n",
        "\n",
        "r=(1.01,2.0,3.0,4.0,5.0)\n",
        "\n",
        "\n",
        "\n",
        "print(g(r,n))\n",
        "\n"
      ],
      "execution_count": 46,
      "outputs": [
        {
          "output_type": "stream",
          "text": [
            "introduzca el grado del polinomio : 3\n"
          ],
          "name": "stdout"
        },
        {
          "output_type": "error",
          "ename": "TypeError",
          "evalue": "ignored",
          "traceback": [
            "\u001b[0;31m---------------------------------------------------------------------------\u001b[0m",
            "\u001b[0;31mTypeError\u001b[0m                                 Traceback (most recent call last)",
            "\u001b[0;32m<ipython-input-46-84fdb3c844a6>\u001b[0m in \u001b[0;36m<module>\u001b[0;34m()\u001b[0m\n\u001b[1;32m     38\u001b[0m \u001b[0;34m\u001b[0m\u001b[0m\n\u001b[1;32m     39\u001b[0m \u001b[0;34m\u001b[0m\u001b[0m\n\u001b[0;32m---> 40\u001b[0;31m \u001b[0mprint\u001b[0m\u001b[0;34m(\u001b[0m\u001b[0mg\u001b[0m\u001b[0;34m(\u001b[0m\u001b[0mr\u001b[0m\u001b[0;34m,\u001b[0m\u001b[0mn\u001b[0m\u001b[0;34m)\u001b[0m\u001b[0;34m)\u001b[0m\u001b[0;34m\u001b[0m\u001b[0m\n\u001b[0m\u001b[1;32m     41\u001b[0m \u001b[0;34m\u001b[0m\u001b[0m\n",
            "\u001b[0;32m<ipython-input-46-84fdb3c844a6>\u001b[0m in \u001b[0;36mg\u001b[0;34m(x, y)\u001b[0m\n\u001b[1;32m     26\u001b[0m   \u001b[0ms\u001b[0m\u001b[0;34m=\u001b[0m\u001b[0;36m0\u001b[0m\u001b[0;34m\u001b[0m\u001b[0m\n\u001b[1;32m     27\u001b[0m   \u001b[0;32mfor\u001b[0m \u001b[0mi\u001b[0m \u001b[0;32min\u001b[0m \u001b[0mrange\u001b[0m\u001b[0;34m(\u001b[0m\u001b[0;36m0\u001b[0m\u001b[0;34m,\u001b[0m\u001b[0my\u001b[0m\u001b[0;34m)\u001b[0m\u001b[0;34m:\u001b[0m\u001b[0;34m\u001b[0m\u001b[0m\n\u001b[0;32m---> 28\u001b[0;31m     \u001b[0ms\u001b[0m\u001b[0;34m=\u001b[0m\u001b[0ms\u001b[0m\u001b[0;34m+\u001b[0m\u001b[0;34m(\u001b[0m\u001b[0mw\u001b[0m\u001b[0;34m(\u001b[0m\u001b[0mx\u001b[0m\u001b[0;34m[\u001b[0m\u001b[0mi\u001b[0m\u001b[0;34m]\u001b[0m\u001b[0;34m,\u001b[0m\u001b[0my\u001b[0m\u001b[0;34m)\u001b[0m\u001b[0;34m*\u001b[0m\u001b[0mf\u001b[0m\u001b[0;34m(\u001b[0m\u001b[0mx\u001b[0m\u001b[0;34m[\u001b[0m\u001b[0mi\u001b[0m\u001b[0;34m]\u001b[0m\u001b[0;34m,\u001b[0m\u001b[0;36m1.01\u001b[0m\u001b[0;34m,\u001b[0m\u001b[0;36m5\u001b[0m\u001b[0;34m)\u001b[0m\u001b[0;34m)\u001b[0m\u001b[0;34m\u001b[0m\u001b[0m\n\u001b[0m\u001b[1;32m     29\u001b[0m   \u001b[0;32mreturn\u001b[0m \u001b[0;34m(\u001b[0m\u001b[0;34m(\u001b[0m\u001b[0;36m4\u001b[0m\u001b[0;34m)\u001b[0m\u001b[0;34m/\u001b[0m\u001b[0;36m2\u001b[0m\u001b[0;34m)\u001b[0m\u001b[0;34m*\u001b[0m\u001b[0ms\u001b[0m\u001b[0;34m\u001b[0m\u001b[0m\n\u001b[1;32m     30\u001b[0m \u001b[0;34m\u001b[0m\u001b[0m\n",
            "\u001b[0;31mTypeError\u001b[0m: f() takes 1 positional argument but 3 were given"
          ]
        }
      ]
    }
  ]
}